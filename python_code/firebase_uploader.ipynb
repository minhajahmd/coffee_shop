{
 "cells": [
  {
   "cell_type": "code",
   "execution_count": 2,
   "id": "97d402db",
   "metadata": {},
   "outputs": [
    {
     "data": {
      "text/plain": [
       "True"
      ]
     },
     "execution_count": 2,
     "metadata": {},
     "output_type": "execute_result"
    }
   ],
   "source": [
    "import firebase_admin\n",
    "from firebase_admin import credentials, storage\n",
    "from firebase_admin import db\n",
    "import pandas as pd\n",
    "import os\n",
    "import dotenv\n",
    "dotenv.load_dotenv()"
   ]
  },
  {
   "cell_type": "markdown",
   "id": "a1c3fb2d",
   "metadata": {},
   "source": [
    "### FIREBASE INIT"
   ]
  },
  {
   "cell_type": "code",
   "execution_count": 3,
   "id": "58702e73",
   "metadata": {},
   "outputs": [],
   "source": [
    "service_account_info = {\n",
    "    \"type\": os.getenv(\"FIREBASE_TYPE\"),\n",
    "    \"project_id\": os.getenv(\"FIREBASE_PROJECT_ID\"),\n",
    "    \"private_key_id\": os.getenv(\"FIREBASE_PRIVATE_KEY_ID\"),\n",
    "    \"private_key\": os.getenv(\"FIREBASE_PRIVATE_KEY\"), \n",
    "    \"client_email\": os.getenv(\"FIREBASE_CLIENT_EMAIL\"),\n",
    "    \"client_id\": os.getenv(\"FIREBASE_CLIENT_ID\"),\n",
    "    \"auth_uri\": os.getenv(\"FIREBASE_AUTH_URI\"),\n",
    "    \"token_uri\": os.getenv(\"FIREBASE_TOKEN_URI\"),\n",
    "    \"auth_provider_x509_cert_url\": os.getenv(\"FIREBASE_AUTH_PROVIDER_X509_CERT_URL\"),\n",
    "    \"client_x509_cert_url\": os.getenv(\"FIREBASE_CLIENT_X509_CERT_URL\"),\n",
    "    \"universe_domain\": os.getenv(\"FIREBASE_UNIVERSE_DOMAIN\")\n",
    "}"
   ]
  },
  {
   "cell_type": "code",
   "execution_count": 4,
   "id": "47ba4e86",
   "metadata": {},
   "outputs": [
    {
     "data": {
      "text/plain": [
       "<firebase_admin.App at 0x29d279ed330>"
      ]
     },
     "execution_count": 4,
     "metadata": {},
     "output_type": "execute_result"
    }
   ],
   "source": [
    "cred = credentials.Certificate(service_account_info) #Create a Firebase credential object using the service account details\n",
    "firebase_admin.initialize_app(cred, {\n",
    "    'storageBucket': 'coffee-shop-app-7519c.firebasestorage.app',\n",
    "    'databaseURL': 'https://coffee-shop-app-7519c-default-rtdb.firebaseio.com/'\n",
    "})"
   ]
  },
  {
   "cell_type": "code",
   "execution_count": 5,
   "id": "a2478f30",
   "metadata": {},
   "outputs": [],
   "source": [
    "bucket = storage.bucket() #Get a reference to the Firebase Storage bucket"
   ]
  },
  {
   "cell_type": "markdown",
   "id": "5e8f256f",
   "metadata": {},
   "source": [
    "### Upload Data"
   ]
  },
  {
   "cell_type": "code",
   "execution_count": 6,
   "id": "a7a3e909",
   "metadata": {},
   "outputs": [],
   "source": [
    "image_folder_path = './products/images' #Path to the folder containing images"
   ]
  },
  {
   "cell_type": "code",
   "execution_count": 7,
   "id": "442ae196",
   "metadata": {},
   "outputs": [],
   "source": [
    "products_collection = db.reference('products') #Reference to the 'products' collection in Firebase Realtime Database"
   ]
  },
  {
   "cell_type": "code",
   "execution_count": 9,
   "id": "d6c4ebf0",
   "metadata": {},
   "outputs": [
    {
     "data": {
      "text/html": [
       "<div>\n",
       "<style scoped>\n",
       "    .dataframe tbody tr th:only-of-type {\n",
       "        vertical-align: middle;\n",
       "    }\n",
       "\n",
       "    .dataframe tbody tr th {\n",
       "        vertical-align: top;\n",
       "    }\n",
       "\n",
       "    .dataframe thead th {\n",
       "        text-align: right;\n",
       "    }\n",
       "</style>\n",
       "<table border=\"1\" class=\"dataframe\">\n",
       "  <thead>\n",
       "    <tr style=\"text-align: right;\">\n",
       "      <th></th>\n",
       "      <th>name</th>\n",
       "      <th>category</th>\n",
       "      <th>description</th>\n",
       "      <th>ingredients</th>\n",
       "      <th>price</th>\n",
       "      <th>rating</th>\n",
       "      <th>image_path</th>\n",
       "    </tr>\n",
       "  </thead>\n",
       "  <tbody>\n",
       "    <tr>\n",
       "      <th>0</th>\n",
       "      <td>Cappuccino</td>\n",
       "      <td>Coffee</td>\n",
       "      <td>A rich and creamy cappuccino made with freshly...</td>\n",
       "      <td>[Espresso, Steamed Milk, Milk Foam]</td>\n",
       "      <td>4.50</td>\n",
       "      <td>4.7</td>\n",
       "      <td>cappuccino.jpg</td>\n",
       "    </tr>\n",
       "    <tr>\n",
       "      <th>1</th>\n",
       "      <td>Jumbo Savory Scone</td>\n",
       "      <td>Bakery</td>\n",
       "      <td>Deliciously flaky and buttery, this jumbo savo...</td>\n",
       "      <td>[Flour, Butter, Cheese, Herbs, Baking Powder, ...</td>\n",
       "      <td>3.25</td>\n",
       "      <td>4.3</td>\n",
       "      <td>SavoryScone.webp</td>\n",
       "    </tr>\n",
       "  </tbody>\n",
       "</table>\n",
       "</div>"
      ],
      "text/plain": [
       "                 name category  \\\n",
       "0          Cappuccino   Coffee   \n",
       "1  Jumbo Savory Scone   Bakery   \n",
       "\n",
       "                                         description  \\\n",
       "0  A rich and creamy cappuccino made with freshly...   \n",
       "1  Deliciously flaky and buttery, this jumbo savo...   \n",
       "\n",
       "                                         ingredients  price  rating  \\\n",
       "0                [Espresso, Steamed Milk, Milk Foam]   4.50     4.7   \n",
       "1  [Flour, Butter, Cheese, Herbs, Baking Powder, ...   3.25     4.3   \n",
       "\n",
       "         image_path  \n",
       "0    cappuccino.jpg  \n",
       "1  SavoryScone.webp  "
      ]
     },
     "execution_count": 9,
     "metadata": {},
     "output_type": "execute_result"
    }
   ],
   "source": [
    "df = pd.read_json('products/products.jsonl', lines=True) #Read the JSONL file into a DataFrame\n",
    "df.head(2) #Display the first few rows of the DataFrame"
   ]
  },
  {
   "cell_type": "code",
   "execution_count": null,
   "id": "a9a53f1f",
   "metadata": {},
   "outputs": [],
   "source": []
  }
 ],
 "metadata": {
  "kernelspec": {
   "display_name": "Python 3",
   "language": "python",
   "name": "python3"
  },
  "language_info": {
   "codemirror_mode": {
    "name": "ipython",
    "version": 3
   },
   "file_extension": ".py",
   "mimetype": "text/x-python",
   "name": "python",
   "nbconvert_exporter": "python",
   "pygments_lexer": "ipython3",
   "version": "3.10.0"
  }
 },
 "nbformat": 4,
 "nbformat_minor": 5
}
